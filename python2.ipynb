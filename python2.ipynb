{
 "cells": [
  {
   "cell_type": "markdown",
   "id": "6fb9c2a3-1dc2-422d-a5df-6a1ed85ea798",
   "metadata": {},
   "source": [
    "question 1"
   ]
  },
  {
   "cell_type": "markdown",
   "id": "56b01432-1e42-4b8c-8047-7dbb17e648a4",
   "metadata": {},
   "source": [
    "yes we can store ' in string variable"
   ]
  },
  {
   "cell_type": "code",
   "execution_count": 3,
   "id": "5f961bc0-0c61-4dfc-af9e-af69a711f524",
   "metadata": {},
   "outputs": [],
   "source": [
    "s=\"'\""
   ]
  },
  {
   "cell_type": "markdown",
   "id": "6f7c6f6e-f09d-4803-af66-10e5f3aa5259",
   "metadata": {},
   "source": [
    "question 2"
   ]
  },
  {
   "cell_type": "code",
   "execution_count": 4,
   "id": "a54b61e1-420e-4507-b59f-c8f3dbb13c2a",
   "metadata": {},
   "outputs": [],
   "source": [
    "x='a'"
   ]
  },
  {
   "cell_type": "code",
   "execution_count": 6,
   "id": "2520721c-2360-4e5e-8ce6-e3d744165ab4",
   "metadata": {},
   "outputs": [
    {
     "data": {
      "text/plain": [
       "str"
      ]
     },
     "execution_count": 6,
     "metadata": {},
     "output_type": "execute_result"
    }
   ],
   "source": [
    "type(s)"
   ]
  },
  {
   "cell_type": "markdown",
   "id": "ff4fe915-847f-456b-9438-e126bafff757",
   "metadata": {},
   "source": [
    "we store sting in single or double inverted commma"
   ]
  },
  {
   "cell_type": "markdown",
   "id": "125f926f-6e97-4efa-9419-6a6056a8ca81",
   "metadata": {},
   "source": [
    "if we check type() of variable it shows string"
   ]
  },
  {
   "cell_type": "markdown",
   "id": "ed026324-723e-44e9-bc33-dce512f129f0",
   "metadata": {},
   "source": [
    "Qyestion 3"
   ]
  },
  {
   "cell_type": "code",
   "execution_count": 14,
   "id": "5f3497ee-2eb7-4ff7-80f3-d99342079c06",
   "metadata": {},
   "outputs": [],
   "source": [
    "X= 'Welcome to Python Foundation Course'"
   ]
  },
  {
   "cell_type": "code",
   "execution_count": 17,
   "id": "760f19b8-6bd4-4653-8929-fc5576172e54",
   "metadata": {},
   "outputs": [
    {
     "data": {
      "text/plain": [
       "0"
      ]
     },
     "execution_count": 17,
     "metadata": {},
     "output_type": "execute_result"
    }
   ],
   "source": [
    "X.find('w')"
   ]
  },
  {
   "cell_type": "code",
   "execution_count": 18,
   "id": "90525814-a069-4e1a-96dd-43de85160c46",
   "metadata": {},
   "outputs": [
    {
     "data": {
      "text/plain": [
       "3"
      ]
     },
     "execution_count": 18,
     "metadata": {},
     "output_type": "execute_result"
    }
   ],
   "source": [
    "X.find('c')"
   ]
  },
  {
   "cell_type": "code",
   "execution_count": 21,
   "id": "3d388f2a-60ef-4873-85d6-e921c233ed53",
   "metadata": {},
   "outputs": [
    {
     "data": {
      "text/plain": [
       "35"
      ]
     },
     "execution_count": 21,
     "metadata": {},
     "output_type": "execute_result"
    }
   ],
   "source": [
    "len(X)"
   ]
  },
  {
   "cell_type": "code",
   "execution_count": 24,
   "id": "bb34985d-8a8b-4dc1-a0a6-430c48a08157",
   "metadata": {},
   "outputs": [
    {
     "data": {
      "text/plain": [
       "'welcometo'"
      ]
     },
     "execution_count": 24,
     "metadata": {},
     "output_type": "execute_result"
    }
   ],
   "source": [
    "\"welcome\"+\"to\""
   ]
  },
  {
   "cell_type": "code",
   "execution_count": 26,
   "id": "b5c2fe76-2544-4319-a907-f0245da62172",
   "metadata": {},
   "outputs": [
    {
     "data": {
      "text/plain": [
       "1"
      ]
     },
     "execution_count": 26,
     "metadata": {},
     "output_type": "execute_result"
    }
   ],
   "source": [
    "X.count('s')"
   ]
  },
  {
   "cell_type": "markdown",
   "id": "745f77ea-eaf0-49b7-b6d7-f55b0a0ab6f1",
   "metadata": {},
   "source": [
    "Question 4"
   ]
  },
  {
   "cell_type": "code",
   "execution_count": 27,
   "id": "b4ec1eb2-acf7-438a-9102-3a06eec358ec",
   "metadata": {},
   "outputs": [],
   "source": [
    "word= 'Panaji@12256'"
   ]
  },
  {
   "cell_type": "markdown",
   "id": "b16fb878-caf1-49e6-a793-1e796105abad",
   "metadata": {},
   "source": [
    "number of lower alphabets"
   ]
  },
  {
   "cell_type": "code",
   "execution_count": 29,
   "id": "d7cdfb41-2cb9-4ee9-8bbb-247ae91852f5",
   "metadata": {},
   "outputs": [
    {
     "data": {
      "text/plain": [
       "'anaj'"
      ]
     },
     "execution_count": 29,
     "metadata": {},
     "output_type": "execute_result"
    }
   ],
   "source": [
    "word[1:5]"
   ]
  },
  {
   "cell_type": "markdown",
   "id": "a4615bae-fef3-49c3-a4ff-208f8f816788",
   "metadata": {},
   "source": [
    "number of uppercase\n"
   ]
  },
  {
   "cell_type": "code",
   "execution_count": 30,
   "id": "44441f04-a0f1-416a-b29f-337449bc0d65",
   "metadata": {},
   "outputs": [
    {
     "data": {
      "text/plain": [
       "'P'"
      ]
     },
     "execution_count": 30,
     "metadata": {},
     "output_type": "execute_result"
    }
   ],
   "source": [
    "word[0]"
   ]
  },
  {
   "cell_type": "markdown",
   "id": "114d3b81-ce54-4a65-bbc0-77418aa77299",
   "metadata": {},
   "source": [
    "number of numerics"
   ]
  },
  {
   "cell_type": "code",
   "execution_count": 31,
   "id": "fb207890-4754-4624-a3b2-9cd0ea520793",
   "metadata": {},
   "outputs": [
    {
     "data": {
      "text/plain": [
       "'1225'"
      ]
     },
     "execution_count": 31,
     "metadata": {},
     "output_type": "execute_result"
    }
   ],
   "source": [
    "word[7:11]"
   ]
  },
  {
   "cell_type": "markdown",
   "id": "3a0e5898-630e-48ad-a422-c0c35bb848f0",
   "metadata": {},
   "source": [
    "question 5"
   ]
  },
  {
   "cell_type": "code",
   "execution_count": 40,
   "id": "9d776141-231c-4151-906a-11721d6b6b02",
   "metadata": {},
   "outputs": [],
   "source": [
    "s=32"
   ]
  },
  {
   "cell_type": "code",
   "execution_count": 41,
   "id": "35ea2369-afcd-4868-8e58-d61e8d0cc2fb",
   "metadata": {},
   "outputs": [],
   "source": [
    "s=\"sonam\""
   ]
  },
  {
   "cell_type": "code",
   "execution_count": 42,
   "id": "a5aa260b-9f31-4f20-a194-cab4e793d066",
   "metadata": {},
   "outputs": [
    {
     "data": {
      "text/plain": [
       "'sonam'"
      ]
     },
     "execution_count": 42,
     "metadata": {},
     "output_type": "execute_result"
    }
   ],
   "source": [
    "s"
   ]
  },
  {
   "cell_type": "code",
   "execution_count": null,
   "id": "aa1e6fdf-5472-4478-94aa-a81c50dbcf25",
   "metadata": {},
   "outputs": [],
   "source": []
  }
 ],
 "metadata": {
  "kernelspec": {
   "display_name": "Python 3 (ipykernel)",
   "language": "python",
   "name": "python3"
  },
  "language_info": {
   "codemirror_mode": {
    "name": "ipython",
    "version": 3
   },
   "file_extension": ".py",
   "mimetype": "text/x-python",
   "name": "python",
   "nbconvert_exporter": "python",
   "pygments_lexer": "ipython3",
   "version": "3.10.8"
  }
 },
 "nbformat": 4,
 "nbformat_minor": 5
}
